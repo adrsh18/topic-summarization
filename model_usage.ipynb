{
 "cells": [
  {
   "cell_type": "markdown",
   "metadata": {},
   "source": [
    "# Using Doc2Vec Model\n",
    "\n",
    "Please follow these steps to use the trained and saved Doc2Vec model file for further tasks. First, make sure you have the following files in your <underline>current working directory</underline>. You can download them [here](https://drive.google.com/open?id=0BzN3cL-RAt8TSFZJMkZsY2o0WlE):\n",
    "* delta.cooper\n",
    "* delta.cooper.docvecs.doctag_syn0.npy\n",
    "* delta.cooper.syn0.npy\n",
    "* delta.cooper.syn1neg.npy\n",
    "* delta.cooper.syn1.npy\n",
    "* delta-vectors.pkl.gzip\n",
    "\n",
    "Once you are sure that you have all these files, install **gensim** module like you would install anyother python module:\n",
    "<pre>\n",
    "pip install gensim\n",
    "</pre>\n",
    "OR, in case of OSX\n",
    "<pre>\n",
    "easy_install gensim\n",
    "</pre>\n",
    "\n",
    "After this run the below code snippet to get you up and running."
   ]
  },
  {
   "cell_type": "code",
   "execution_count": 1,
   "metadata": {
    "collapsed": false
   },
   "outputs": [
    {
     "name": "stdout",
     "output_type": "stream",
     "text": [
      "Model Loaded\n",
      "This model has  271644  document (tweet) vectors\n",
      "Vectors and Labels loaded from pickle file\n",
      "Vectors:\n",
      "Type of object:  <type 'numpy.ndarray'>  ; Shape:  (271644, 100)\n",
      "\n",
      "Labels:\n",
      "Type of object:  <type 'numpy.ndarray'>  ; Shape:  (271644,)\n"
     ]
    }
   ],
   "source": [
    "import gzip\n",
    "import cPickle\n",
    "from gensim.models import Doc2Vec\n",
    "\n",
    "model_file_name = 'delta.cooper'\n",
    "vectors_file_name = 'delta-vectors.pkl.gz'\n",
    "\n",
    "try:\n",
    "    model = Doc2Vec.load(model_file_name)\n",
    "    print \"Model Loaded\"\n",
    "    print \"This model has \",len(model.docvecs),\" document (tweet) vectors\"\n",
    "    \n",
    "    vectors_file = gzip.open(vectors_file_name,'rb')\n",
    "    vectors, labels = cPickle.load(vectors_file)\n",
    "    print \"Vectors and Labels loaded from pickle file\"\n",
    "    print \"Vectors:\"\n",
    "    print \"Type of object: \",type(vectors),\" ; Shape: \",vectors.shape\n",
    "    print \"\"\n",
    "    print \"Labels:\"\n",
    "    print \"Type of object: \",type(labels),\" ; Shape: \",labels.shape\n",
    "except IOError:\n",
    "    print \"Some of the files have not been found or loaded. Check the above list and try again!\"\n",
    "    raise\n",
    "except:\n",
    "    print \"Unknown error!\"\n",
    "    raise"
   ]
  },
  {
   "cell_type": "markdown",
   "metadata": {},
   "source": [
    "Now you might be thinking - **\"Why the hell would I need the model file/object loaded when I can get the vectors from the pickle file?\"**\n",
    "\n",
    "Because, there is immense power in that model object. Period.\n",
    "You get your own version of similarity function - to calculate distances for clustering, etc etc.,\n",
    "Read the documentation [here](https://radimrehurek.com/gensim/models/doc2vec.html).\n",
    "\n",
    "## Let me show you what I mean\n",
    "Here's an example of finding tweets similar to some tweet using this model"
   ]
  },
  {
   "cell_type": "code",
   "execution_count": 3,
   "metadata": {
    "collapsed": false
   },
   "outputs": [
    {
     "name": "stdout",
     "output_type": "stream",
     "text": [
      "Loaded tweets for demo\n"
     ]
    }
   ],
   "source": [
    "#Loading another file to show you tweet text for this example\n",
    "\n",
    "import json\n",
    "f = open('delta-en-index-ready.txt','r')\n",
    "tweets = json.loads(f.read())\n",
    "f.close()\n",
    "\n",
    "print \"Loaded tweets for demo\""
   ]
  },
  {
   "cell_type": "markdown",
   "metadata": {},
   "source": [
    "**Now choose a random tweet and check its text**"
   ]
  },
  {
   "cell_type": "code",
   "execution_count": 37,
   "metadata": {
    "collapsed": false
   },
   "outputs": [
    {
     "name": "stdout",
     "output_type": "stream",
     "text": [
      "My ultimate favorite Christmas cds are my James Taylor and Shawn Colvin holiday collections. #repeat\n"
     ]
    }
   ],
   "source": [
    "rand_tweet = tweets[8]\n",
    "print rand_tweet['tweet_text']"
   ]
  },
  {
   "cell_type": "markdown",
   "metadata": {},
   "source": [
    "**Now find similar tweets and display their content**"
   ]
  },
  {
   "cell_type": "code",
   "execution_count": 38,
   "metadata": {
    "collapsed": false
   },
   "outputs": [
    {
     "name": "stdout",
     "output_type": "stream",
     "text": [
      "Match::    #Best Taylor Swift Holiday Collection CHRISTMAS #CD LIMITED EDITION  #Beautiful #News \n",
      "Match::    Playing Love came down at Christmas by Shawn Colvin from the album \"Holiday Songs and Lullabies\" - iTunes: \n",
      "Match::    #StorySnugAdvent Alphabet: E is for Elmer  Do you have any more Xmas or wintery book sugges \n",
      "Match::    @C_Hardman Eee Lovalee Aall yerz needz a copy uv mei Xmas CD an tharll be the pawfect Christmas.\n",
      "Match::    Me, day after thanksgiving: \"I forgot how much I like Christmas music\"\n",
      "Me, 2 days after T giving: \"Ill skullfuck anyone playing Xmas music\"\n",
      "Match::    @AuthorSAMcAuley @magicandarchery That will be my ultimate Christmas pressie You are my SANTA Love you sooooooooo much \n",
      "Match::    @SethStokesTSE Christmas is your second favorite holiday.... \n",
      "Match::    The 25 Days of Christmas is my favorite holiday\n",
      "Match::    It is only 24 days until @jscari24 favorite holiday, Christmas\n",
      "Match::    #Best TAYLOR SWIFT - The Holiday Collection - Christmas #CD Target Exclusive NEW OOP  \n"
     ]
    }
   ],
   "source": [
    "matches = model.docvecs.most_similar(rand_tweet['tweet_id'])\n",
    "id_list = [m[0] for m in matches]\n",
    "\n",
    "for t in tweets:\n",
    "    if t['tweet_id'] in id_list:\n",
    "        print \"Match::   \",t[\"tweet_text\"]"
   ]
  },
  {
   "cell_type": "markdown",
   "metadata": {},
   "source": [
    "**Observe that our random tweet only had the word 'CD' which made sense of the entire tweet. Using that the model has discovered tweets describing other music or books that people are enjoying this christmas**"
   ]
  },
  {
   "cell_type": "code",
   "execution_count": null,
   "metadata": {
    "collapsed": true
   },
   "outputs": [],
   "source": []
  }
 ],
 "metadata": {
  "kernelspec": {
   "display_name": "Python 2",
   "language": "python",
   "name": "python2"
  },
  "language_info": {
   "codemirror_mode": {
    "name": "ipython",
    "version": 2
   },
   "file_extension": ".py",
   "mimetype": "text/x-python",
   "name": "python",
   "nbconvert_exporter": "python",
   "pygments_lexer": "ipython2",
   "version": "2.7.12"
  }
 },
 "nbformat": 4,
 "nbformat_minor": 1
}
