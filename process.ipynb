{
 "cells": [
  {
   "cell_type": "code",
   "execution_count": 5,
   "metadata": {
    "collapsed": false
   },
   "outputs": [
    {
     "name": "stdout",
     "output_type": "stream",
     "text": [
      "Data Loaded\n",
      "Number of tweets:  100001\n"
     ]
    }
   ],
   "source": [
    "import json\n",
    "\n",
    "f = open('christmas-en.txt','r')\n",
    "data = json.loads(f.read())\n",
    "f.close()\n",
    "\n",
    "print \"Data Loaded\"\n",
    "print \"Number of tweets: \",len(data)"
   ]
  },
  {
   "cell_type": "code",
   "execution_count": 8,
   "metadata": {
    "collapsed": false
   },
   "outputs": [
    {
     "name": "stdout",
     "output_type": "stream",
     "text": [
      "Done\n"
     ]
    }
   ],
   "source": [
    "from datetime import datetime\n",
    "cdata = []\n",
    "\n",
    "for tweet in data:\n",
    "    ctweet = {}\n",
    "    d = datetime.strptime(tweet[\"created_at\"], \"%a %b %d %H:%M:%S +0000 %Y\")\n",
    "    if d.minute > 29:\n",
    "        if d.hour == 23:\n",
    "            if (d.day == 30) and (d.month == 11):\n",
    "                d.replace(day = 1, month = 12)\n",
    "            else:\n",
    "                d = d.replace(day = d.day + 1)\n",
    "            d = d.replace(hour = 0)\n",
    "        else:\n",
    "            d = d.replace(hour = d.hour + 1)\n",
    "    ctweet[\"tweet_date\"] = d.strftime(\"%Y-%m-%dT%H:00:00Z\")\n",
    "    ctweet[\"tweet_lang\"] = tweet[\"lang\"]\n",
    "    ctweet[\"tweet_id\"] = tweet[\"id_str\"]\n",
    "    ctweet[\"tweet_text\"] = tweet[\"text\"]\n",
    "    ctweet[\"tweet_loc\"] = tweet[\"coordinates\"]\n",
    "    ctweet[\"user_loc\"] = tweet[\"user\"][\"location\"]\n",
    "    ctweet[\"tweet_urls\"] = []\n",
    "    for url in tweet[\"entities\"][\"urls\"]:\n",
    "        ctweet[\"tweet_urls\"].append(url[\"expanded_url\"])\n",
    "    ctweet[\"tweet_hashtags\"] = []\n",
    "    for hashtag in tweet[\"entities\"][\"hashtags\"]:\n",
    "        ctweet[\"tweet_hashtags\"].append(hashtag[\"text\"])\n",
    "    ctweet[\"tweet_mentions\"] = []\n",
    "    for mention in tweet[\"entities\"][\"user_mentions\"]:\n",
    "        ctweet[\"tweet_mentions\"].append(mention[\"id\"])\n",
    "    ctweet[\"tweet_media\"] = []\n",
    "    if \"media\" in tweet[\"entities\"]:\n",
    "        for media in tweet[\"entities\"][\"media\"]:\n",
    "            m = {}\n",
    "            m['type'] = media['type']\n",
    "            m['url'] = media['media_url']\n",
    "            ctweet[\"tweet_media\"].append(m)\n",
    "    ctweet[\"user_id\"] = tweet[\"user\"][\"id\"]\n",
    "    ctweet[\"user_screen_name\"] = tweet[\"user\"][\"screen_name\"]\n",
    "    ctweet[\"user_profile_image_url\"] = tweet[\"user\"][\"profile_image_url\"]\n",
    "    if \"retweeted_status\" in tweet:\n",
    "        ctweet[\"retweet\"] = True\n",
    "    else:\n",
    "        ctweet[\"retweet\"] = False\n",
    "    ctweet[\"retweet_count\"] = tweet[\"retweet_count\"]\n",
    "    ctweet[\"favorite_count\"] = tweet[\"favorite_count\"]\n",
    "    cdata.append(ctweet)\n",
    "\n",
    "print \"Done\""
   ]
  },
  {
   "cell_type": "code",
   "execution_count": 9,
   "metadata": {
    "collapsed": true
   },
   "outputs": [],
   "source": [
    "g = open('christmas-en-processed.txt','w')\n",
    "g.write(json.dumps(cdata))\n",
    "g.close()"
   ]
  },
  {
   "cell_type": "code",
   "execution_count": null,
   "metadata": {
    "collapsed": true
   },
   "outputs": [],
   "source": []
  }
 ],
 "metadata": {
  "kernelspec": {
   "display_name": "Python [conda root]",
   "language": "python",
   "name": "conda-root-py"
  },
  "language_info": {
   "codemirror_mode": {
    "name": "ipython",
    "version": 2
   },
   "file_extension": ".py",
   "mimetype": "text/x-python",
   "name": "python",
   "nbconvert_exporter": "python",
   "pygments_lexer": "ipython2",
   "version": "2.7.12"
  }
 },
 "nbformat": 4,
 "nbformat_minor": 1
}
